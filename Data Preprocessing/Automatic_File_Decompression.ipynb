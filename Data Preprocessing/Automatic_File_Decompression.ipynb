{
  "nbformat": 4,
  "nbformat_minor": 0,
  "metadata": {
    "colab": {
      "provenance": []
    },
    "kernelspec": {
      "name": "python3",
      "display_name": "Python 3"
    },
    "language_info": {
      "name": "python"
    }
  },
  "cells": [
    {
      "cell_type": "code",
      "execution_count": 1,
      "metadata": {
        "id": "PtDSoR78bF1t",
        "colab": {
          "base_uri": "https://localhost:8080/"
        },
        "outputId": "90ee0dab-63c5-4f65-9eab-e8bc138cf20a"
      },
      "outputs": [
        {
          "output_type": "stream",
          "name": "stdout",
          "text": [
            "Drive already mounted at /content/gdrive; to attempt to forcibly remount, call drive.mount(\"/content/gdrive\", force_remount=True).\n"
          ]
        }
      ],
      "source": [
        "from google.colab import drive\n",
        "drive.mount('/content/gdrive')"
      ]
    },
    {
      "cell_type": "code",
      "source": [
        "%cd gdrive/MyDrive/DCD_2022/'음식 이미지 및 영양정보 텍스트'"
      ],
      "metadata": {
        "colab": {
          "base_uri": "https://localhost:8080/"
        },
        "id": "KuyCbSXQM000",
        "outputId": "1e04ad92-8f2c-4c62-8bf7-9004160d9249"
      },
      "execution_count": 2,
      "outputs": [
        {
          "output_type": "stream",
          "name": "stdout",
          "text": [
            "/content/gdrive/.shortcut-targets-by-id/1wOrLfCRYDKybRCZZTfYwGsFSjYkPkBYf/DCD_2022/음식 이미지 및 영양정보 텍스트\n"
          ]
        }
      ]
    },
    {
      "cell_type": "code",
      "source": [
        "import os\n",
        "\n",
        "data_dir = './[원천]양추정_TRAIN/image/'\n",
        "\n",
        "classes = []\n",
        "\n",
        "for folder in os.listdir(data_dir):    \n",
        "    classes.append(folder)"
      ],
      "metadata": {
        "id": "2juf41L6lyeD"
      },
      "execution_count": 3,
      "outputs": []
    },
    {
      "cell_type": "code",
      "source": [
        "import zipfile\n",
        "\n",
        "quantity = ['Q1','Q2','Q3', 'Q4', 'Q5']\n",
        "\n",
        "for i in classes:\n",
        "  %cd /\n",
        "  path = [\"/content/gdrive/MyDrive/DCD_2022/음식 이미지 및 영양정보 텍스트/[원천]양추정_TRAIN/image/\"]\n",
        "  path.append(i)\n",
        "  folder_path = os.path.join(*path)\n",
        "  folder_name = i + '_unzip'\n",
        "  %cd $folder_path\n",
        "  os.mkdir(folder_name)\n",
        "  temp = path[:]\n",
        "  temp.append(folder_name)\n",
        "  unzip_path = os.path.join(*temp)\n",
        "  for j in quantity:\n",
        "    temp_path = path[:]\n",
        "    temp_path.append(j)\n",
        "    temp_path.append(j + '.zip')\n",
        "    quantity_path = os.path.join(*temp_path)\n",
        "    with zipfile.ZipFile(quantity_path, 'r') as zip_ref:\n",
        "      zip_ref.extractall(unzip_path)"
      ],
      "metadata": {
        "colab": {
          "base_uri": "https://localhost:8080/"
        },
        "id": "0tZ_zrwTroGP",
        "outputId": "b8ff3027-4065-4eae-aa4a-b2c16a86fba5"
      },
      "execution_count": 4,
      "outputs": [
        {
          "output_type": "stream",
          "name": "stdout",
          "text": [
            "/\n",
            "/content/gdrive/.shortcut-targets-by-id/1wOrLfCRYDKybRCZZTfYwGsFSjYkPkBYf/DCD_2022/음식 이미지 및 영양정보 텍스트/[원천]양추정_TRAIN/image/알탕\n"
          ]
        }
      ]
    }
  ]
}