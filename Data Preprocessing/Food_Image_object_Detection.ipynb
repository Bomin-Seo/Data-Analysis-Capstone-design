{
  "nbformat": 4,
  "nbformat_minor": 0,
  "metadata": {
    "colab": {
      "provenance": []
    },
    "kernelspec": {
      "name": "python3",
      "display_name": "Python 3"
    },
    "language_info": {
      "name": "python"
    },
    "accelerator": "GPU",
    "gpuClass": "premium"
  },
  "cells": [
    {
      "cell_type": "code",
      "execution_count": null,
      "metadata": {
        "colab": {
          "base_uri": "https://localhost:8080/"
        },
        "id": "oo6hK7edZ-Or",
        "outputId": "567eab3b-6097-4cc4-8ac8-9478d8c2de76"
      },
      "outputs": [
        {
          "output_type": "stream",
          "name": "stdout",
          "text": [
            "Mounted at /content/gdrive\n"
          ]
        }
      ],
      "source": [
        "import xml.etree.ElementTree as ET\n",
        "import os\n",
        "import pandas as pd\n",
        "from PIL import Image\n",
        "from google.colab import drive\n",
        "drive.mount('/content/gdrive')"
      ]
    },
    {
      "cell_type": "code",
      "source": [
        "train_image_path = '/content/gdrive/MyDrive/DCD_2022/음식 이미지 및 영양정보 텍스트/Classification_Train'\n",
        "train_classes = []\n",
        "train_img_per_class = []\n",
        "train_image_path_lst = sorted(os.listdir(train_image_path))\n",
        "for folder in train_image_path_lst:\n",
        "  train_classes.append(folder)\n",
        "  train_img_per_class.append(len(os.listdir(f'{train_image_path}/{folder}')))\n",
        "num_classes = len(train_classes)"
      ],
      "metadata": {
        "id": "AV8D8i_ZaiEB"
      },
      "execution_count": null,
      "outputs": []
    },
    {
      "cell_type": "code",
      "source": [
        "# 1) making csv files - coin and dish coordinate\n",
        "quantity = ['Q1','Q2','Q3', 'Q4', 'Q5']\n",
        "train_xml_path = '/content/gdrive/MyDrive/DCD_2022/음식 이미지 및 영양정보 텍스트/원천/[라벨]양추정_TRAIN/xml' \n",
        "xml_array = []\n",
        "for i in train_classes: \n",
        "  %cd /\n",
        "  path = train_xml_path + '/' +i\n",
        "  xml_for_class = [] \n",
        "  %cd $path\n",
        "  for j in quantity:\n",
        "    quantity_path = path[:] + '/' + j\n",
        "    xml_lst = sorted(os.listdir(quantity_path))[1:] # 0번째는 압축파일\n",
        "    for xml_file in xml_lst:\n",
        "      xml_file_name = quantity_path + '/' + xml_file\n",
        "      image_name = xml_file[:-4] + '.JPG'\n",
        "      tree = ET.parse(xml_file_name)\n",
        "      root = tree.getroot()\n",
        "      unit_lst = []\n",
        "      obj = root.findall('object')\n",
        "      dish = obj[4].find('bndbox')\n",
        "      xmin = int(dish.find('xmin').text)\n",
        "      ymin = int(dish.find('ymin').text)\n",
        "      xmax = int(dish.find('xmax').text)\n",
        "      ymax = int(dish.find('ymax').text)\n",
        "      dish_xy = [image_name, xmin, ymin, xmax, ymax]\n",
        "      unit_lst.extend(dish_xy)\n",
        "      xml_for_class.append(unit_lst)\n",
        "  xml_array.append(xml_for_class) # Q1(정렬) Q2(정렬) .. "
      ],
      "metadata": {
        "id": "qnjacnS_aFVC"
      },
      "execution_count": null,
      "outputs": []
    },
    {
      "cell_type": "code",
      "source": [
        "# 2) making csv files - coin and dish coordinate using pandas\n",
        "%cd /content/gdrive/MyDrive/food_csv\n",
        "for i in range(len(xml_array)):\n",
        "  cooridate_file = pd.DataFrame(xml_array[i])\n",
        "  cooridate_file.to_csv( f'{train_classes[i]}.csv', index = False)"
      ],
      "metadata": {
        "id": "SErDykCpaRBS",
        "colab": {
          "base_uri": "https://localhost:8080/"
        },
        "outputId": "b0ceaf2e-2784-4059-d168-f22f6090ee77"
      },
      "execution_count": null,
      "outputs": [
        {
          "output_type": "stream",
          "name": "stdout",
          "text": [
            "/content/gdrive/MyDrive/food_csv\n"
          ]
        }
      ]
    },
    {
      "cell_type": "code",
      "source": [
        "# make folder for crop\n",
        "train_crop_image_path = '/content/drive/MyDrive/DCD_2022/음식 이미지 및 영양정보 텍스트/train_cropped'\n",
        "%cd /content/drive/MyDrive/DCD_2022/음식 이미지 및 영양정보 텍스트/train_cropped\n",
        "for i in train_classes:\n",
        "  folder_name = f'{train_crop_image_path}/{i}'\n",
        "  os.mkdir(folder_name)"
      ],
      "metadata": {
        "id": "SDVT40cxw8ud"
      },
      "execution_count": null,
      "outputs": []
    },
    {
      "cell_type": "code",
      "source": [
        "# path\n",
        "train_image_path = '/content/drive/MyDrive/DCD_2022/음식 이미지 및 영양정보 텍스트/Classification_Train'\n",
        "coordinate_path = '/content/drive/MyDrive/DCD_2022/음식 이미지 및 영양정보 텍스트/train_coordinate'"
      ],
      "metadata": {
        "id": "fCgmRzo4gAyU"
      },
      "execution_count": null,
      "outputs": []
    },
    {
      "cell_type": "code",
      "source": [
        "# crop all image with same name\n",
        "%cd /content/drive/MyDrive/DCD_2022/음식 이미지 및 영양정보 텍스트/Classification_Train\n",
        "for food in train_classes:\n",
        "  image_path_folder = f'{train_image_path}/{food}' # folder name\n",
        "  %cd $food\n",
        "  image_file_list = sorted(os.listdir(image_path_folder)) # image name \n",
        "  list.sort(image_file_list, key=lambda x: (x[-12:-10])) # 재정렬\n",
        "  coordinate_path_file = f'{coordinate_path}/{food}.csv' # file name\n",
        "  coordinate_path_pandas = pd.read_csv(coordinate_path_file)\n",
        "  xy_coordinate_pandas = coordinate_path_pandas.iloc[:, 4:]\n",
        "\n",
        "  for j in range(len(image_file_list)):\n",
        "    image = Image.open(image_file_list[j])\n",
        "    image = image.crop(xy_coordinate_pandas.iloc[j])\n",
        "    image.save(f'/content/drive/MyDrive/DCD_2022/음식 이미지 및 영양정보 텍스트/train_cropped/{food}/{image_file_list[j]}')\n",
        "  %cd .."
      ],
      "metadata": {
        "id": "fR5VuFNgxB63"
      },
      "execution_count": null,
      "outputs": []
    }
  ]
}