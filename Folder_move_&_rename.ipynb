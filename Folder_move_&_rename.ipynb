{
  "nbformat": 4,
  "nbformat_minor": 0,
  "metadata": {
    "colab": {
      "provenance": []
    },
    "kernelspec": {
      "name": "python3",
      "display_name": "Python 3"
    },
    "language_info": {
      "name": "python"
    }
  },
  "cells": [
    {
      "cell_type": "code",
      "execution_count": 1,
      "metadata": {
        "colab": {
          "base_uri": "https://localhost:8080/"
        },
        "id": "52fxrogdxWCF",
        "outputId": "b8129e1a-e993-4300-e7e6-b66368ce8c2c"
      },
      "outputs": [
        {
          "output_type": "stream",
          "name": "stdout",
          "text": [
            "Mounted at /content/gdrive\n"
          ]
        }
      ],
      "source": [
        "from google.colab import drive\n",
        "drive.mount('/content/gdrive')"
      ]
    },
    {
      "cell_type": "code",
      "source": [
        "%cd gdrive/MyDrive/DCD_2022/'음식 이미지 및 영양정보 텍스트'"
      ],
      "metadata": {
        "colab": {
          "base_uri": "https://localhost:8080/"
        },
        "id": "E4436MI_x6Iv",
        "outputId": "7f536afa-1799-4f43-c62b-b5c71f98f966"
      },
      "execution_count": 2,
      "outputs": [
        {
          "output_type": "stream",
          "name": "stdout",
          "text": [
            "/content/gdrive/.shortcut-targets-by-id/1wOrLfCRYDKybRCZZTfYwGsFSjYkPkBYf/DCD_2022/음식 이미지 및 영양정보 텍스트\n"
          ]
        }
      ]
    },
    {
      "cell_type": "code",
      "source": [
        "import os\n",
        "import shutil\n",
        "\n",
        "data_dir = './[원천]양추정_TRAIN/image/'\n",
        "\n",
        "classes = []\n",
        "\n",
        "for folder in os.listdir(data_dir):    \n",
        "    classes.append(folder)"
      ],
      "metadata": {
        "id": "uFQoLcjLzcms"
      },
      "execution_count": 3,
      "outputs": []
    },
    {
      "cell_type": "code",
      "source": [
        "des = \"/content/gdrive/MyDrive/DCD_2022/음식 이미지 및 영양정보 텍스트/Classification_Train\"\n",
        "\n",
        "for i in classes:\n",
        "  path = [\"/content/gdrive/MyDrive/DCD_2022/음식 이미지 및 영양정보 텍스트/[원천]양추정_TRAIN/image/\"]\n",
        "  path.append(i)\n",
        "  path.append(i + \"_unzip\")\n",
        "  folder_path = os.path.join(*path)\n",
        "  if os.path.isdir(folder_path):\n",
        "    shutil.move(folder_path, des)"
      ],
      "metadata": {
        "id": "bLh2Uqu-zua0"
      },
      "execution_count": null,
      "outputs": []
    },
    {
      "cell_type": "code",
      "source": [
        "%cd /content/gdrive/MyDrive/DCD_2022/음식 이미지 및 영양정보 텍스트/Classification_Train\n",
        "cnt = 1\n",
        "\n",
        "for i in os.listdir():\n",
        "  os.rename(i, i.replace(\"_unzip\", \"\"))\n",
        "  print(cnt)\n",
        "  cnt += 1"
      ],
      "metadata": {
        "colab": {
          "base_uri": "https://localhost:8080/"
        },
        "id": "agcFCrxjxXwB",
        "outputId": "7af1c8b3-f4ef-4fc0-9d0d-14f4ac07a48a"
      },
      "execution_count": 11,
      "outputs": [
        {
          "output_type": "stream",
          "name": "stdout",
          "text": [
            "/content/gdrive/.shortcut-targets-by-id/1wOrLfCRYDKybRCZZTfYwGsFSjYkPkBYf/DCD_2022/음식 이미지 및 영양정보 텍스트/Classification_Train\n",
            "1\n",
            "2\n",
            "3\n",
            "4\n",
            "5\n",
            "6\n",
            "7\n",
            "8\n",
            "9\n",
            "10\n",
            "11\n",
            "12\n",
            "13\n",
            "14\n",
            "15\n",
            "16\n",
            "17\n",
            "18\n",
            "19\n",
            "20\n",
            "21\n",
            "22\n",
            "23\n",
            "24\n",
            "25\n",
            "26\n",
            "27\n",
            "28\n",
            "29\n",
            "30\n",
            "31\n",
            "32\n",
            "33\n",
            "34\n",
            "35\n",
            "36\n",
            "37\n",
            "38\n",
            "39\n",
            "40\n",
            "41\n",
            "42\n",
            "43\n",
            "44\n",
            "45\n",
            "46\n",
            "47\n",
            "48\n",
            "49\n",
            "50\n",
            "51\n",
            "52\n",
            "53\n",
            "54\n",
            "55\n",
            "56\n",
            "57\n",
            "58\n",
            "59\n",
            "60\n",
            "61\n",
            "62\n",
            "63\n",
            "64\n",
            "65\n",
            "66\n",
            "67\n",
            "68\n",
            "69\n",
            "70\n",
            "71\n",
            "72\n",
            "73\n",
            "74\n",
            "75\n",
            "76\n",
            "77\n",
            "78\n",
            "79\n",
            "80\n",
            "81\n"
          ]
        }
      ]
    },
    {
      "cell_type": "code",
      "source": [
        "ls"
      ],
      "metadata": {
        "colab": {
          "base_uri": "https://localhost:8080/"
        },
        "id": "rl9bb06W6Q0Q",
        "outputId": "dc12cb1b-fd5a-4d61-cd95-6181cef7a773"
      },
      "execution_count": 13,
      "outputs": [
        {
          "output_type": "stream",
          "name": "stdout",
          "text": [
            " \u001b[0m\u001b[01;34m파전\u001b[0m/       \u001b[01;34m떡볶이\u001b[0m/     \u001b[01;34m카레라이스\u001b[0m/              \u001b[01;34m닭볶음탕\u001b[0m\u001b[K/\n",
            " \u001b[01;34m물회\u001b[0m/       \u001b[01;34m회냉면\u001b[0m/     \u001b[01;34m갈치조림\u001b[0m/                \u001b[01;34m미소된장국\u001b[0m\u001b[K/\n",
            " \u001b[01;34m콩밥\u001b[0m/       \u001b[01;34m해물찜\u001b[0m/     \u001b[01;34m꽁치조림\u001b[0m/                \u001b[01;34m오징어볶음\u001b[0m\u001b[K/\n",
            " \u001b[01;34m쫄면\u001b[0m/       \u001b[01;34m호박죽\u001b[0m/    \u001b[01;34m'오므라이스(접시)'\u001b[0m/       \u001b[01;34m전주비빔밥\u001b[0m\u001b[K/\n",
            " \u001b[01;34m알밥\u001b[0m/       \u001b[01;34m자장면\u001b[0m/    \u001b[01;34m'감자튀김(스틱형)'\u001b[0m\u001b[K/       \u001b[01;34m새우볶음밥\u001b[0m\u001b[K/\n",
            " \u001b[01;34m수제비\u001b[0m/     \u001b[01;34m꽃게탕\u001b[0m/    \u001b[01;34m'감자튀김(웨지감자)'\u001b[0m\u001b[K/     \u001b[01;34m깻잎장아찌\u001b[0m\u001b[K/\n",
            " \u001b[01;34m김밥\u001b[0m/       \u001b[01;34m감자탕\u001b[0m/    \u001b[01;34m'오므라이스(사각배달)'\u001b[0m\u001b[K/   \u001b[01;34m녹두빈대떡\u001b[0m\u001b[K/\n",
            " \u001b[01;34m닭죽\u001b[0m/       \u001b[01;34m갈비탕\u001b[0m/     \u001b[01;34m순대볶음\u001b[0m/                \u001b[01;34m오징어젓갈\u001b[0m\u001b[K/\n",
            " \u001b[01;34m쌀밥\u001b[0m/       \u001b[01;34m닭튀김\u001b[0m/     \u001b[01;34m제육덮밥\u001b[0m/                \u001b[01;34m류산슬덮밥\u001b[0m\u001b[K/\n",
            " \u001b[01;34m알탕\u001b[0m/       \u001b[01;34m두부구이\u001b[0m/   \u001b[01;34m소고기무국\u001b[0m/              \u001b[01;34m김치볶음밥\u001b[0m\u001b[K/\n",
            " \u001b[01;34m콘스프\u001b[0m/     \u001b[01;34m닭갈비\u001b[0m/     \u001b[01;34m일식우동\u001b[0m/                \u001b[01;34m시래기된장국\u001b[0m\u001b[K/\n",
            " \u001b[01;34m라볶이\u001b[0m/     \u001b[01;34m삼계탕\u001b[0m/     \u001b[01;34m순두부찌개\u001b[0m/              \u001b[01;34m삼선볶음밥\u001b[0m\u001b[K/\n",
            " \u001b[01;34m돈가스\u001b[0m/     \u001b[01;34m병어찜\u001b[0m/     \u001b[01;34m달걀말이\u001b[0m/                \u001b[01;34m영양돌솥밥\u001b[0m\u001b[K/\n",
            " \u001b[01;34m순대국\u001b[0m/     \u001b[01;34m치킨윙\u001b[0m/     \u001b[01;34m어묵볶음\u001b[0m/                \u001b[01;34m햄버거스테이크\u001b[0m\u001b[K/\n",
            " \u001b[01;34m회덮밥\u001b[0m/     \u001b[01;34m두부김치\u001b[0m/   \u001b[01;34m코다리조림\u001b[0m/              \u001b[01;34m크림소스스파게티\u001b[0m\u001b[K/\n",
            " \u001b[01;34m떡갈비\u001b[0m/     \u001b[01;34m훈제오리\u001b[0m/   \u001b[01;34m양념게장\u001b[0m/                \u001b[01;34m토마토소스스파게티\u001b[0m\u001b[K/\n",
            " \u001b[01;34m육개장\u001b[0m/     \u001b[01;34m돼지갈비\u001b[0m/   \u001b[01;34m총각김치\u001b[0m/                \u001b[01;34m전주콩나물국밥\u001b[0m\u001b[K/\n",
            " \u001b[01;34m부대찌개\u001b[0m/   \u001b[01;34m잡탕밥\u001b[0m/     \u001b[01;34m삼선짬뽕\u001b[0m/                \u001b[01;34m참치마요삼각김밥\u001b[0m\u001b[K/\n",
            " \u001b[01;34m매운탕\u001b[0m/     \u001b[01;34m새우튀김\u001b[0m/   \u001b[01;34m시금치나물\u001b[0m/\n",
            " \u001b[01;34m오곡밥\u001b[0m/     \u001b[01;34m문어숙회\u001b[0m/   \u001b[01;34m소고기김밥\u001b[0m/\n",
            " \u001b[01;34m콩국수\u001b[0m/     \u001b[01;34m훈제연어\u001b[0m/   \u001b[01;34m곱창전골\u001b[0m/\n"
          ]
        }
      ]
    }
  ]
}